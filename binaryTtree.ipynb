{
  "nbformat": 4,
  "nbformat_minor": 0,
  "metadata": {
    "colab": {
      "name": "binaryTtree.ipynb",
      "version": "0.3.2",
      "provenance": [],
      "include_colab_link": true
    },
    "kernelspec": {
      "name": "python3",
      "display_name": "Python 3"
    },
    "accelerator": "GPU"
  },
  "cells": [
    {
      "cell_type": "markdown",
      "metadata": {
        "id": "view-in-github",
        "colab_type": "text"
      },
      "source": [
        "<a href=\"https://colab.research.google.com/github/Inspiring26/colab/blob/master/binaryTtree.ipynb\" target=\"_parent\"><img src=\"https://colab.research.google.com/assets/colab-badge.svg\" alt=\"Open In Colab\"/></a>"
      ]
    },
    {
      "metadata": {
        "id": "upjSQ5UZubcJ",
        "colab_type": "code",
        "colab": {}
      },
      "cell_type": "code",
      "source": [
        "import math\n",
        "# Tree Node\n",
        "class TN:\n",
        "    def __init__(self, data, left=None, right=None):\n",
        "        self.data = data\n",
        "        self.left = left\n",
        "        self.right = right\n",
        "    def __str__(self):\n",
        "        return str(self.data)\n",
        "\n",
        "\n",
        "# Full Binary Tree\n",
        "class FBT:\n",
        "    # 初始化的作用就是，根据已知列表创建了一个完全二叉树\n",
        "    def __init__(self, ls):\n",
        "        # 一个向TN这样的类就相当于定义了一种数据结构\n",
        "        self.nodes = [TN(i) for i in ls]\n",
        "        for i in range(len(self.nodes)-1, 0, -1):\n",
        "            if i % 2 == 0:\n",
        "                # 找到每一个结点的父结点\n",
        "                self.nodes[int(i/2-1)].right = self.nodes[i]\n",
        "            else:\n",
        "                self.nodes[int(i/2)].left = self.nodes[i]\n",
        "        # self.tree()是__init__下的一个方法？？\n",
        "  "
      ],
      "execution_count": 0,
      "outputs": []
    },
    {
      "metadata": {
        "id": "gYQokA7Gubc0",
        "colab_type": "code",
        "colab": {
          "base_uri": "https://localhost:8080/",
          "height": 34
        },
        "outputId": "12383993-ae2a-4354-ce5f-265871ac56f9"
      },
      "cell_type": "code",
      "source": [
        "ls = [chr(i) for i in range(65, 91)]\n",
        "fbt = FBT(ls)\n",
        "print(fbt.nodes[0].data,\\\n",
        "  fbt.nodes[0].left,\\\n",
        "  fbt.nodes[0].right,\\\n",
        "  fbt.nodes[25].left)"
      ],
      "execution_count": 8,
      "outputs": [
        {
          "output_type": "stream",
          "text": [
            "A B C None\n"
          ],
          "name": "stdout"
        }
      ]
    },
    {
      "metadata": {
        "id": "gobGLekByikw",
        "colab_type": "code",
        "colab": {}
      },
      "cell_type": "code",
      "source": [
        ""
      ],
      "execution_count": 0,
      "outputs": []
    }
  ]
}