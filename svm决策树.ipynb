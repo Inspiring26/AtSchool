{
  "nbformat": 4,
  "nbformat_minor": 0,
  "metadata": {
    "colab": {
      "name": "svm决策树",
      "version": "0.3.2",
      "provenance": [],
      "collapsed_sections": [],
      "include_colab_link": true
    },
    "kernelspec": {
      "name": "python3",
      "display_name": "Python 3"
    },
    "accelerator": "GPU"
  },
  "cells": [
    {
      "cell_type": "markdown",
      "metadata": {
        "id": "view-in-github",
        "colab_type": "text"
      },
      "source": [
        "<a href=\"https://colab.research.google.com/github/Inspiring26/colab/blob/master/svm%E5%86%B3%E7%AD%96%E6%A0%91.ipynb\" target=\"_parent\"><img src=\"https://colab.research.google.com/assets/colab-badge.svg\" alt=\"Open In Colab\"/></a>"
      ]
    },
    {
      "metadata": {
        "id": "mwoHSttmaGxO",
        "colab_type": "code",
        "outputId": "4dc46e6c-ed63-423b-b334-42d046caea4a",
        "colab": {
          "base_uri": "https://localhost:8080/",
          "height": 85
        }
      },
      "cell_type": "code",
      "source": [
        "from sklearn import svm , datasets\n",
        "import numpy as np\n",
        "import pandas as pd\n",
        "from sklearn.model_selection import train_test_split\n",
        "\n",
        "\n",
        "data = datasets.load_iris()\n",
        "y = data.target\n",
        "X_train, X_test, y_train, y_test = train_test_split(data.data,y,test_size=0.3)\n",
        "print(\"X_train:\",X_train.shape)\n",
        "print(\"X_test:\",X_test.shape)\n",
        "print(\"y_train:\",y_train.shape)\n",
        "print(\"y_test:\",y_test.shape)\n",
        "\n"
      ],
      "execution_count": 1,
      "outputs": [
        {
          "output_type": "stream",
          "text": [
            "X_train: (105, 4)\n",
            "X_test: (45, 4)\n",
            "y_train: (105,)\n",
            "y_test: (45,)\n"
          ],
          "name": "stdout"
        }
      ]
    },
    {
      "metadata": {
        "id": "UR1i_vIPY5d4",
        "colab_type": "code",
        "colab": {}
      },
      "cell_type": "code",
      "source": [
        ""
      ],
      "execution_count": 0,
      "outputs": []
    },
    {
      "metadata": {
        "id": "QxjNIddm2FQA",
        "colab_type": "text"
      },
      "cell_type": "markdown",
      "source": [
        "先写出一个分类树作为别人的原始结构（）"
      ]
    },
    {
      "metadata": {
        "id": "g0246byI_5d1",
        "colab_type": "code",
        "colab": {}
      },
      "cell_type": "code",
      "source": [
        "import math\n",
        "# Tree Node\n",
        "class TN:\n",
        "    def __init__(self, data, left=None, right=None):\n",
        "        self.data = data\n",
        "        self.left = left\n",
        "        self.right = right\n",
        "    def __str__(self):\n",
        "        return str(self.data)\n",
        "\n",
        "\n",
        "# Full Binary Tree\n",
        "class FBT:\n",
        "    def __init__(self, ls):\n",
        "        self.nodes = [TN(i) for i in ls]\n",
        "        for i in range(len(self.nodes)-1, 0, -1):\n",
        "            if i % 2 == 0:\n",
        "                self.nodes[int(i/2-1)].right = self.nodes[i]\n",
        "            else:\n",
        "                self.nodes[int(i/2)].left = self.nodes[i]\n",
        "        #self.tree()\n",
        "    # 树结构\n",
        "    def tree(self):\n",
        "        # 节点数\n",
        "        length = len(self.nodes)\n",
        "        # 总层数\n",
        "        layers = math.ceil(math.log2(length))\n",
        "        # 总宽度\n",
        "        width = 2 ** layers - 1\n",
        "        # 分隔符\n",
        "        branch = ' '\n",
        "        # 初始化顶层,并打印\n",
        "        layer = [self.nodes[0].data]\n",
        "        interval = 2 ** layers - 1\n",
        "        for i in range(2, length + 1):\n",
        "            if math.log2(i) % 1 == 0:\n",
        "                # 打印当前层\n",
        "                print((branch * interval).join(layer).center(width))\n",
        "                layer = []\n",
        "            # 元素进入当前层\n",
        "            layer.append(self.nodes[i - 1].data)\n",
        "            # 节点间空隙\n",
        "            interval = 2 ** (layers - int(math.log2(i))) - 1\n",
        "        # 打印底层\n",
        "        print(branch.join(layer))\n",
        "\n",
        "\n"
      ],
      "execution_count": 0,
      "outputs": []
    },
    {
      "metadata": {
        "id": "5qtkoIF1_9jD",
        "colab_type": "code",
        "outputId": "f0f9630e-d7fa-4c06-8bd4-a0421518558d",
        "colab": {
          "base_uri": "https://localhost:8080/",
          "height": 34
        }
      },
      "cell_type": "code",
      "source": [
        "# lsA_F = [chr(i) for i in range(65, 71)]\n",
        "# print(lsA_F)\n",
        "lsA_F = list(set(y))\n",
        "print(lsA_F)"
      ],
      "execution_count": 3,
      "outputs": [
        {
          "output_type": "stream",
          "text": [
            "[0, 1, 2]\n"
          ],
          "name": "stdout"
        }
      ]
    },
    {
      "metadata": {
        "id": "rfZBIJ9EAFki",
        "colab_type": "code",
        "outputId": "143c2dc2-cf78-4332-e3a7-80c56754d907",
        "colab": {
          "base_uri": "https://localhost:8080/",
          "height": 51
        }
      },
      "cell_type": "code",
      "source": [
        "all_nodes_list = [lsA_F,]\n",
        "queue_list = [lsA_F,]\n",
        "print(queue_list)\n",
        "while queue_list:\n",
        "    len_ = len(queue_list[0])\n",
        "    mid = 2**math.ceil(math.log2(len_/2))\n",
        "\n",
        "    all_nodes_list.append(queue_list[0][:mid])\n",
        "    all_nodes_list.append(queue_list[0][mid:])\n",
        "    if mid>1 :\n",
        "        queue_list.append(queue_list[0][:mid])\n",
        "    if (len_ - mid) > 1 :\n",
        "        queue_list.append(queue_list[0][mid:])\n",
        "    queue_list.pop(0)\n",
        "\n",
        "    \n",
        "print(all_nodes_list)\n",
        "    "
      ],
      "execution_count": 4,
      "outputs": [
        {
          "output_type": "stream",
          "text": [
            "[[0, 1, 2]]\n",
            "[[0, 1, 2], [0, 1], [2], [0], [1]]\n"
          ],
          "name": "stdout"
        }
      ]
    },
    {
      "metadata": {
        "id": "qeyEpEuwAJi_",
        "colab_type": "code",
        "outputId": "399ff978-7d25-48cd-8ac7-230a9ee581b2",
        "colab": {
          "base_uri": "https://localhost:8080/",
          "height": 68
        }
      },
      "cell_type": "code",
      "source": [
        "# 这一段仅仅是为了显示，使用的是str不影响原程序\n",
        "all_nodes_list_string = [str(i) for i in all_nodes_list]\n",
        "fbt = FBT(all_nodes_list_string)\n",
        "fbt.tree()"
      ],
      "execution_count": 5,
      "outputs": [
        {
          "output_type": "stream",
          "text": [
            "[0, 1, 2]\n",
            "[0, 1]   [2]\n",
            "[0] [1]\n"
          ],
          "name": "stdout"
        }
      ]
    },
    {
      "metadata": {
        "id": "TuTZUXtEGdAB",
        "colab_type": "code",
        "outputId": "a6c26731-09e0-444d-ad8a-e88c1df87618",
        "colab": {
          "base_uri": "https://localhost:8080/",
          "height": 34
        }
      },
      "cell_type": "code",
      "source": [
        "# 这里是一个字典，目前不使用\n",
        "int_other_dict={}\n",
        "other_int_dict={}\n",
        "for i,value in enumerate(list(set(y))):\n",
        "  int_other_dict[i]=value\n",
        "  other_int_dict[value]=i\n",
        "print(int_other_dict,other_int_dict)\n",
        "  "
      ],
      "execution_count": 6,
      "outputs": [
        {
          "output_type": "stream",
          "text": [
            "{0: 0, 1: 1, 2: 2} {0: 0, 1: 1, 2: 2}\n"
          ],
          "name": "stdout"
        }
      ]
    },
    {
      "metadata": {
        "id": "WeLZy4zLL6IO",
        "colab_type": "code",
        "outputId": "a365f8d5-d147-4139-c5bb-3075994c04c4",
        "colab": {
          "base_uri": "https://localhost:8080/",
          "height": 170
        }
      },
      "cell_type": "code",
      "source": [
        "# set_len = len(list(set(y)))\n",
        "# all_nodes_list_len = len(all_nodes_list)\n",
        "\n",
        "models_list = []\n",
        "for i,l in enumerate(all_nodes_list):\n",
        "  if len(l)>1:\n",
        "    mid_ = 2**math.ceil(math.log2(len(l)/2))\n",
        "    left_list, right_list = l[:mid_],l[mid_:]\n",
        "    print(left_list, right_list)\n",
        "    # 创建新的训练数据集和新的标签集\n",
        "    letf_train_data, right_train_data =[], []\n",
        "    for x in range(len(y_train)):\n",
        "      if y_train[x] in left_list:\n",
        "        letf_train_data.append((X_train[x]))\n",
        "      elif y_train[x] in right_list:\n",
        "        right_train_data.append((X_train[x]))\n",
        "    new_train_data = letf_train_data+right_train_data\n",
        "    new_target = [0]*len(letf_train_data)+[1]*len(right_train_data)\n",
        "    model = svm.SVC(kernel='rbf',decision_function_shape='ovo',C=1,gamma=2**-5)\n",
        "#     print(new_train_data)\n",
        "    model.fit(new_train_data,new_target)\n",
        "#     print(model)\n",
        "    models_list.append(model)\n",
        "\n",
        "      \n",
        "# 完成训练，得到models_list\n",
        "print(models_list) \n",
        "  "
      ],
      "execution_count": 7,
      "outputs": [
        {
          "output_type": "stream",
          "text": [
            "[0, 1] [2]\n",
            "[0] [1]\n",
            "[SVC(C=1, cache_size=200, class_weight=None, coef0=0.0,\n",
            "  decision_function_shape='ovo', degree=3, gamma=0.03125, kernel='rbf',\n",
            "  max_iter=-1, probability=False, random_state=None, shrinking=True,\n",
            "  tol=0.001, verbose=False), SVC(C=1, cache_size=200, class_weight=None, coef0=0.0,\n",
            "  decision_function_shape='ovo', degree=3, gamma=0.03125, kernel='rbf',\n",
            "  max_iter=-1, probability=False, random_state=None, shrinking=True,\n",
            "  tol=0.001, verbose=False)]\n"
          ],
          "name": "stdout"
        }
      ]
    },
    {
      "metadata": {
        "id": "NDl-33Te6Ikj",
        "colab_type": "code",
        "colab": {}
      },
      "cell_type": "code",
      "source": [
        "# 给每一个单独的列表分类\n",
        "def class_for_each(inlist):\n",
        "  step = 0\n",
        "  while True:\n",
        "    bl = models_list[step].predict([inlist])\n",
        "  #   print(bl)\n",
        "    if bl:\n",
        "      step = (step+1)*2\n",
        "    else:\n",
        "      step = (step+1)*2-1\n",
        "#     print(step)\n",
        "    if len(all_nodes_list[step])<2:\n",
        "      return int(all_nodes_list[step][0])\n",
        "      \n"
      ],
      "execution_count": 0,
      "outputs": []
    },
    {
      "metadata": {
        "id": "HFCS3u-NJz93",
        "colab_type": "code",
        "colab": {}
      },
      "cell_type": "code",
      "source": [
        "y_test=[x for x in y_test]\n",
        "y_test_pred = [class_for_each(x) for x in X_test]"
      ],
      "execution_count": 0,
      "outputs": []
    },
    {
      "metadata": {
        "id": "BbERyOEV-xQB",
        "colab_type": "code",
        "colab": {
          "base_uri": "https://localhost:8080/",
          "height": 346
        },
        "outputId": "af23617e-ee70-4050-de33-1c557061bc23"
      },
      "cell_type": "code",
      "source": [
        "from sklearn.metrics import accuracy_score, confusion_matrix, classification_report\n",
        "\n",
        "print(\"正确分类：\\n\",y_test)\n",
        "print(\"模型分类：\\n\",y_test_pred)\n",
        "print(\"准确率：\\n\",accuracy_score(y_test,y_test_pred))\n",
        "print(\"量化结果：\\n\",classification_report(y_test,y_test_pred))"
      ],
      "execution_count": 10,
      "outputs": [
        {
          "output_type": "stream",
          "text": [
            "正确分类：\n",
            " [0, 1, 2, 0, 2, 2, 0, 0, 1, 1, 2, 0, 1, 1, 1, 1, 0, 2, 0, 2, 1, 2, 0, 0, 0, 1, 2, 2, 1, 2, 2, 1, 1, 1, 0, 2, 0, 0, 2, 2, 0, 1, 0, 0, 0]\n",
            "模型分类：\n",
            " [0, 1, 2, 0, 2, 2, 0, 0, 1, 1, 2, 0, 1, 2, 1, 1, 0, 2, 0, 2, 1, 2, 0, 0, 0, 1, 1, 2, 1, 2, 2, 1, 1, 1, 0, 2, 0, 0, 2, 2, 0, 1, 0, 0, 0]\n",
            "准确率：\n",
            " 0.9555555555555556\n",
            "量化结果：\n",
            "               precision    recall  f1-score   support\n",
            "\n",
            "           0       1.00      1.00      1.00        17\n",
            "           1       0.93      0.93      0.93        14\n",
            "           2       0.93      0.93      0.93        14\n",
            "\n",
            "   micro avg       0.96      0.96      0.96        45\n",
            "   macro avg       0.95      0.95      0.95        45\n",
            "weighted avg       0.96      0.96      0.96        45\n",
            "\n"
          ],
          "name": "stdout"
        }
      ]
    },
    {
      "metadata": {
        "id": "MeiNMM5XK9z5",
        "colab_type": "text"
      },
      "cell_type": "markdown",
      "source": [
        "### Confusion Matrix for Non-Linear SVM (Gaussian RBF)"
      ]
    },
    {
      "metadata": {
        "id": "DfH8rAV4K_kj",
        "colab_type": "code",
        "colab": {
          "base_uri": "https://localhost:8080/",
          "height": 921
        },
        "outputId": "ae2b58c4-5b5c-4905-daba-8c80393b713a"
      },
      "cell_type": "code",
      "source": [
        "import matplotlib.pyplot as plt\n",
        "import itertools\n",
        "''' Following is the method for plotting the confusion matrix as a CMAP Plot (Matplotlib library module)'''\n",
        "def plot_confusion_matrix(cm, classes,\n",
        "                          normalize=False,\n",
        "                          title='Confusion matrix',\n",
        "                          cmap=plt.cm.Blues):\n",
        "    \"\"\"\n",
        "    This function prints and plots the confusion matrix.\n",
        "    Normalization can be applied by setting `normalize=True`.\n",
        "    \"\"\"\n",
        "    if normalize:\n",
        "        cm = cm.astype('float') / cm.sum(axis=1)[:, np.newaxis] # 'cm' is the computed confusion matrix being passed as parameter\n",
        "        print(\"Normalized confusion matrix\")\n",
        "    else:\n",
        "        print('Confusion matrix without normalization')\n",
        "\n",
        "    print(cm) # Printing out the computed confusion matrix\n",
        "    ''' DEfining parameters for plt '''\n",
        "    plt.imshow(cm, interpolation='nearest', cmap=cmap) \n",
        "    plt.title(title)\n",
        "    plt.colorbar()\n",
        "    tick_marks = np.arange(len(classes))\n",
        "    plt.xticks(tick_marks, classes, rotation=45)\n",
        "    plt.yticks(tick_marks, classes)\n",
        "\n",
        "    fmt = '.2f' if normalize else 'd'\n",
        "    thresh = cm.max() / 2.\n",
        "    ''' Using itertools module to  '''\n",
        "    for i, j in itertools.product(range(cm.shape[0]), range(cm.shape[1])):\n",
        "        plt.text(j, i, format(cm[i, j], fmt),\n",
        "                 horizontalalignment=\"center\",\n",
        "                 color=\"white\" if cm[i, j] > thresh else \"black\")\n",
        "\n",
        "    plt.ylabel('True label')\n",
        "    plt.xlabel('Predicted label')\n",
        "    plt.tight_layout()\n",
        "\n",
        "\n",
        "# Computing the confusion matrix with respect to Gini Index prediction\n",
        "cnf_matrix = confusion_matrix(y_test, y_test_pred)\n",
        "np.set_printoptions(precision=2)\n",
        "\n",
        "# Plotting the non-normalized confusion matrix\n",
        "plt.figure()\n",
        "plot_confusion_matrix(cnf_matrix, classes=data.target_names,\n",
        "                      title='Confusion matrix for Non-Linear SVM RBF')\n",
        "\n",
        "# Plotting the normalized confusion matrix\n",
        "plt.figure()\n",
        "plot_confusion_matrix(cnf_matrix, classes=data.target_names, normalize=True,\n",
        "                      title='Confusion matrix (Normalized) for Non-Linear SVM RBF')\n",
        "\n",
        "plt.show()"
      ],
      "execution_count": 11,
      "outputs": [
        {
          "output_type": "stream",
          "text": [
            "Confusion matrix without normalization\n",
            "[[17  0  0]\n",
            " [ 0 13  1]\n",
            " [ 0  1 13]]\n",
            "Normalized confusion matrix\n",
            "[[1.   0.   0.  ]\n",
            " [0.   0.93 0.07]\n",
            " [0.   0.07 0.93]]\n"
          ],
          "name": "stdout"
        },
        {
          "output_type": "display_data",
          "data": {
            "image/png": "[encoded data removed]",
            "text/plain": [
              "<matplotlib.figure.Figure at 0x7f5d0accfda0>"
            ]
          },
          "metadata": {
            "tags": []
          }
        },
        {
          "output_type": "display_data",
          "data": {
            "image/png": "[encoded data removed]",
            "text/plain": [
              "<matplotlib.figure.Figure at 0x7f5d06e1a0f0>"
            ]
          },
          "metadata": {
            "tags": []
          }
        }
      ]
    }
  ]
}